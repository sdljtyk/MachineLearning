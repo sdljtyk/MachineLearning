{
 "cells": [
  {
   "cell_type": "markdown",
   "metadata": {},
   "source": [
    "# K-近邻算法（分类）\n",
    "\n",
    "## 基本思路\n",
    "1. 存在一个具有标签的样本数据集，即了解每一个样本与分类的对应关系；\n",
    "2. 输入没有标签的新样本之后\n",
    "   - 计算新数据与样本数据集中每条数据的距离\n",
    "   - 根据距离，选择前k个最相似的数据\n",
    "3. 选择k个数据中出现次数最多的分类，作为新数据的分类。\n",
    "\n",
    "## 特点\n",
    "* 优点: 精度高、对异常值不敏感、无数据输入假定\n",
    "* 缺点：计算复杂度高、空间复杂度高\n",
    "* 使用数据范围： 数值和标称\n",
    "\n",
    "## 一般流程\n",
    "1. 收集数据 ：可以使用任何方法\n",
    "2. 准备数据 : 距离计算所需要的数值，最好是结构化\n",
    "3. 分析数据 : 可以使用任何方法\n",
    "4. 训练算法 ：不适用K-近邻算法\n",
    "5. 测试算法 ：计算错误率\n",
    "6. 使用算法 ：首先需要输入样本数据和结构化的输出结果，然后运行Ｋ－近邻算法判定输入数据属于哪个分类，最后执行后续处理."
   ]
  },
  {
   "cell_type": "markdown",
   "metadata": {},
   "source": [
    "# 一个简单示例\n",
    "> 根据电影中接吻镜头以及动作镜头判断电影是‘动作片’还是‘爱情片’"
   ]
  },
  {
   "cell_type": "code",
   "execution_count": 1,
   "metadata": {},
   "outputs": [],
   "source": [
    "# 引入包\n",
    "import numpy as np\n",
    "import operator\n",
    "import collections"
   ]
  },
  {
   "cell_type": "code",
   "execution_count": 2,
   "metadata": {},
   "outputs": [],
   "source": [
    "# 构建数据集合\n",
    "def createDataSet():\n",
    "    # 四组二维特征（4个样本，动作镜头数量、接吻镜头数量）\n",
    "    group = np.array([[3, 104], [2, 100], [1, 81], [101, 10], [99, 5], [98, 2]])\n",
    "    # 四组特征的标签\n",
    "    labels = ['爱情片', '爱情片', '爱情片', '动作片', '动作片', '动作片']\n",
    "    return group, labels\n"
   ]
  },
  {
   "cell_type": "code",
   "execution_count": 5,
   "metadata": {},
   "outputs": [],
   "source": [
    "# 构建K-NN分类器\n",
    "\"\"\"\n",
    "函数:K-NN分类器\n",
    "\n",
    "输入：\n",
    "    inX - 用于分类的数据(测试集)\n",
    "    dataSet - 用于训练的数据(训练集)\n",
    "    labes - 分类标签\n",
    "    k - K-NN算法参数,选取相近k个数据\n",
    "返回:\n",
    "    分类结果\n",
    "\"\"\"\n",
    "\n",
    "\n",
    "def classify0(inx, dataset, labels, k):\n",
    "    # 计算距离\n",
    "    dist = np.sum((inx - dataset) ** 2, axis=1) ** 0.5\n",
    "    print('距离')\n",
    "    print(dist)\n",
    "    # k个最近的标签\n",
    "    k_labels = [labels[index] for index in dist.argsort()[0: k]]\n",
    "    # 出现次数最多的标签即为最终类别\n",
    "    label = collections.Counter(k_labels).most_common(1)[0][0]\n",
    "    return label"
   ]
  },
  {
   "cell_type": "code",
   "execution_count": 6,
   "metadata": {},
   "outputs": [
    {
     "name": "stdout",
     "output_type": "stream",
     "text": [
      "距离\n",
      "[ 20.24845673  13.03840481 123.79418403 127.01574706]\n",
      "爱情片\n"
     ]
    }
   ],
   "source": [
    "# 应用分类器\n",
    "\n",
    "group, labels = createDataSet()\n",
    "inx = [18, 90]\n",
    "label = classify0(inx, group, labels, 3)\n",
    "print(label)"
   ]
  }
 ],
 "metadata": {
  "kernelspec": {
   "display_name": "Python 3",
   "language": "python",
   "name": "python3"
  },
  "language_info": {
   "codemirror_mode": {
    "name": "ipython",
    "version": 3
   },
   "file_extension": ".py",
   "mimetype": "text/x-python",
   "name": "python",
   "nbconvert_exporter": "python",
   "pygments_lexer": "ipython3",
   "version": "3.7.1"
  }
 },
 "nbformat": 4,
 "nbformat_minor": 2
}
