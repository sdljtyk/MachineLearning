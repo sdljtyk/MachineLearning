{
 "cells": [
  {
   "cell_type": "markdown",
   "metadata": {},
   "source": [
    "# 示例 在约会网站上使用k-近邻算法 \n",
    "\n",
    "## 背景介绍\n",
    ">海伦使用在线约会网站寻找适合自己的约会对象约会网站会推荐不同的人选，但她没有从中找到喜欢的人。经过一番总结，她发现曾交往过三种类型的人：\n",
    "     > + 不喜欢的人\n",
    "     > + 魅力一般的人\n",
    "     > + 极具魅力的人\n",
    "\n",
    "\n",
    "## 一般流程\n",
    "> 1. 收集数据：提供文本文件。\n",
    "> 2. 准备数据：使用Python解析文本文件。\n",
    "> 3. 分析数据：使用Matplotlib画二维扩散图。\n",
    "> 4. 训练算法：此步骤不适用于k-近邻算法。\n",
    "> 5. 测试算法：使用海伦提供的部分数据作为测试样本。测试样本和非测试样本的区别在于：测试样本是已经完成分类的数据，如果预测分类与实际类别不同，则标记为一个错误。\n",
    "> 6. 使用算法：产生简单的命令行程序，然后海伦可以输入一些特征数据以判断对方是否为自己喜欢的类型。"
   ]
  },
  {
   "cell_type": "markdown",
   "metadata": {},
   "source": [
    "## 1. 收集数据\n",
    "> 海伦收集约会数据已经有了一段时间，她把这些数据存放在文本文件datingTestSet.txt中，每个样本数据占据一行，总共有1000行。海伦的样本主要包含以下3种特征：\n",
    "> + 每年获得的飞行常客里程数\n",
    "> + 玩视频游戏所耗时间百分比\n",
    "> + 每周消费的冰淇淋公升数"
   ]
  },
  {
   "cell_type": "code",
   "execution_count": null,
   "metadata": {},
   "outputs": [],
   "source": [
    "# 引入所需包\n",
    "import numpy as np\n",
    "import operator\n",
    "from matplotlib.font_manager import FontProperties\n",
    "import matplotlib.lines as mlines\n",
    "import matplotlib.pyplot as plt"
   ]
  },
  {
   "cell_type": "markdown",
   "metadata": {},
   "source": [
    "## 2. 准备数据\n",
    "> 将上述特征数据进行预处理,格式附和输入要求,输出训练样本矩阵以及类标签向量."
   ]
  },
  {
   "cell_type": "code",
   "execution_count": null,
   "metadata": {},
   "outputs": [],
   "source": []
  }
 ],
 "metadata": {
  "kernelspec": {
   "display_name": "Python 3",
   "language": "python",
   "name": "python3"
  },
  "language_info": {
   "codemirror_mode": {
    "name": "ipython",
    "version": 3
   },
   "file_extension": ".py",
   "mimetype": "text/x-python",
   "name": "python",
   "nbconvert_exporter": "python",
   "pygments_lexer": "ipython3",
   "version": "3.7.1"
  }
 },
 "nbformat": 4,
 "nbformat_minor": 2
}
